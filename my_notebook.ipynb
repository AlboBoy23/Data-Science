{
 "cells": [
  {
   "cell_type": "markdown",
   "id": "8e16704d-18c2-4272-8921-573e8648fd11",
   "metadata": {
    "tags": []
   },
   "source": [
    "# My Jupyter Notebook on IBM Watson Studio"
   ]
  },
  {
   "cell_type": "markdown",
   "id": "738bf253-c20d-4029-9727-2d918999619b",
   "metadata": {},
   "source": [
    "**Abdul Saboor**"
   ]
  },
  {
   "cell_type": "markdown",
   "id": "d32a86da-e0cd-4f32-969e-80699c5273ad",
   "metadata": {},
   "source": [
    "**Introduction:**\n",
    "Hi there!, my name is Abdul Saboor. I am interested in data science because I want work on AI Models to automate the tasks."
   ]
  },
  {
   "cell_type": "markdown",
   "id": "2cec4fc8-c822-4fd3-980e-b3f1a92ef775",
   "metadata": {},
   "source": [
    "### Objectives\n",
    "* To demonstrate basic knowledge of data science tools\n",
    "* Get to know jupyter Notebook"
   ]
  },
  {
   "cell_type": "markdown",
   "id": "94df416b-3afe-4812-aae7-686b8ba069c1",
   "metadata": {
    "tags": []
   },
   "source": [
    "### Some Important Languages for Data Science\n",
    "* Python\n",
    "* R\n",
    "* SQL"
   ]
  },
  {
   "cell_type": "markdown",
   "id": "c06ebadb-4121-455c-bcc0-8241c1c8cb47",
   "metadata": {},
   "source": [
    "### Some Important python libraries for data science\n",
    "* Pandas\n",
    "* Numpy\n",
    "* SciPy\n",
    "* Sci-Kit Learn"
   ]
  },
  {
   "cell_type": "markdown",
   "id": "182b3de3-21a5-4b41-9ec9-1c74e849d195",
   "metadata": {},
   "source": [
    "<style type=\"text/css\">\n",
    ".tg  {border-collapse:collapse;border-spacing:0;}\n",
    ".tg td{border-color:black;border-style:solid;border-width:1px;font-family:Arial, sans-serif;font-size:14px;\n",
    "  overflow:hidden;padding:10px 5px;word-break:normal;}\n",
    ".tg th{border-color:black;border-style:solid;border-width:1px;font-family:Arial, sans-serif;font-size:14px;\n",
    "  font-weight:normal;overflow:hidden;padding:10px 5px;word-break:normal;}\n",
    ".tg .tg-baqh{text-align:center;vertical-align:top}\n",
    ".tg .tg-0lax{text-align:left;vertical-align:top}\n",
    "</style>\n",
    "<table class=\"tg\">\n",
    "<thead>\n",
    "  <tr>\n",
    "    <th class=\"tg-baqh\"><span style=\"font-weight:bold\">Tool</span></th>\n",
    "    <th class=\"tg-baqh\"><span style=\"font-weight:bold\">Used For</span></th>\n",
    "  </tr>\n",
    "</thead>\n",
    "<tbody>\n",
    "  <tr>\n",
    "    <td class=\"tg-0lax\">IBM Watson Studio</td>\n",
    "    <td class=\"tg-0lax\">IBM's software platform for data science</td>\n",
    "  </tr>\n",
    "  <tr>\n",
    "    <td class=\"tg-0lax\">Jupyter-Notebook</td>\n",
    "    <td class=\"tg-0lax\">Jupyter Notebook is a web-based interactive computing platform</td>\n",
    "  </tr>\n",
    "  <tr>\n",
    "    <td class=\"tg-0lax\">Apache Spark</td>\n",
    "    <td class=\"tg-0lax\">Apache Spark is an open source data processing and analytics engine</td>\n",
    "  </tr>\n",
    "</tbody>\n",
    "</table>"
   ]
  },
  {
   "cell_type": "markdown",
   "id": "c15aeacf-049a-425b-a6aa-95041369815d",
   "metadata": {},
   "source": [
    "### Arithmetic Expressions\n",
    "x + 25\n",
    "\n",
    "3 + 33 + 333 "
   ]
  },
  {
   "cell_type": "code",
   "execution_count": 5,
   "id": "cd16208e-e181-4474-92f0-bc9ffbf16503",
   "metadata": {
    "tags": []
   },
   "outputs": [
    {
     "data": {
      "text/plain": [
       "22"
      ]
     },
     "execution_count": 5,
     "metadata": {},
     "output_type": "execute_result"
    }
   ],
   "source": [
    "# Evaluating some arithmetic Expression\n",
    "1 + 3 * (3 + 2 * 2) - 0"
   ]
  },
  {
   "cell_type": "code",
   "execution_count": 10,
   "id": "d14bfd3e-a875-4692-914b-18b8a120f6b6",
   "metadata": {
    "tags": []
   },
   "outputs": [
    {
     "name": "stdout",
     "output_type": "stream",
     "text": [
      "30 minutes in terms of hours will be:  0.5\n"
     ]
    }
   ],
   "source": [
    "# Converting 25 minutes into hours\n",
    "print(f\"30 minutes in terms of hours will be: \",30 / 60)"
   ]
  },
  {
   "cell_type": "markdown",
   "id": "b8b88043-8eea-4137-bae6-0d1e67abd1a4",
   "metadata": {},
   "source": []
  }
 ],
 "metadata": {
  "kernelspec": {
   "display_name": "Python 3 (ipykernel)",
   "language": "python",
   "name": "python3"
  },
  "language_info": {
   "codemirror_mode": {
    "name": "ipython",
    "version": 3
   },
   "file_extension": ".py",
   "mimetype": "text/x-python",
   "name": "python",
   "nbconvert_exporter": "python",
   "pygments_lexer": "ipython3",
   "version": "3.10.2"
  }
 },
 "nbformat": 4,
 "nbformat_minor": 5
}
